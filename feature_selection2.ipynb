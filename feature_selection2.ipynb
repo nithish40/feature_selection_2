{
  "nbformat": 4,
  "nbformat_minor": 0,
  "metadata": {
    "colab": {
      "provenance": []
    },
    "kernelspec": {
      "name": "python3",
      "display_name": "Python 3"
    },
    "language_info": {
      "name": "python"
    }
  },
  "cells": [
    {
      "cell_type": "code",
      "source": [
        "import pandas as pd\n",
        "from sklearn.model_selection import train_test_split\n",
        "from sklearn.tree import DecisionTreeClassifier\n",
        "from sklearn.metrics import accuracy_score\n",
        "\n",
        "df = pd.read_csv('/content/drive/MyDrive/Colab Notebooks/melbourne_housing_raw.csv')\n",
        "\n",
        "from sklearn import preprocessing\n",
        "label_encoder = preprocessing.LabelEncoder()\n",
        "for column in df.keys():\n",
        "  if df[column].dtype == 'object':\n",
        "    df[column] = label_encoder.fit_transform(df[column])\n",
        "\n",
        "y=df['Propertycount']\n",
        "df=df.drop('Propertycount',axis=1)\n",
        "\n",
        "print(df.shape)\n",
        "print(y.shape)\n",
        "if y.isnull().any():\n",
        "    y = y.dropna()\n",
        "    df = df.loc[y.index]\n",
        "print(df.shape)\n",
        "print(y.shape)\n",
        "\n",
        "X_train, X_test, y_train, y_test = train_test_split(df, y, test_size=0.3, random_state=42)\n",
        "\n",
        "model = DecisionTreeClassifier(random_state=42)\n",
        "model.fit(X_train, y_train)\n",
        "\n",
        "y_pred = model.predict(X_test)\n",
        "accuracy = accuracy_score(y_test, y_pred)\n",
        "\n",
        "print(f'Accuracy Before: {accuracy}')\n"
      ],
      "metadata": {
        "colab": {
          "base_uri": "https://localhost:8080/"
        },
        "id": "-Ir8ntm_C9L9",
        "outputId": "807e2c7a-d8aa-4eec-d589-971ded3b6fa6"
      },
      "execution_count": 18,
      "outputs": [
        {
          "output_type": "stream",
          "name": "stdout",
          "text": [
            "(34857, 19)\n",
            "(34857,)\n",
            "(34854, 19)\n",
            "(34854,)\n",
            "Accuracy Before: 0.9975136272353448\n"
          ]
        }
      ]
    },
    {
      "cell_type": "code",
      "source": [
        "# 1. Missing Values Ratio (Threshold 30%)\n",
        "\n",
        "missing_ratio = df.eq(0).sum() / len(df) * 100\n",
        "print('Missing ratio per feature:\\n', missing_ratio)\n",
        "\n",
        "missing_ratio\n",
        "X = df.loc[:, missing_ratio <= 30]\n",
        "\n",
        "X_train, X_test, y_train, y_test = train_test_split(X, y, test_size=0.3, random_state=42)\n",
        "\n",
        "model = DecisionTreeClassifier(random_state=42)\n",
        "model.fit(X_train, y_train)\n",
        "\n",
        "y_pred = model.predict(X_test)\n",
        "accuracy = accuracy_score(y_test, y_pred)\n",
        "\n",
        "print(f'Accuracy After removing features with missing value ercentage >20% : {accuracy}')\n"
      ],
      "metadata": {
        "colab": {
          "base_uri": "https://localhost:8080/"
        },
        "id": "-WCyu0e7q6jN",
        "outputId": "4dc908d5-e52e-4643-95ba-b27e64c2a99d"
      },
      "execution_count": 20,
      "outputs": [
        {
          "output_type": "stream",
          "name": "stdout",
          "text": [
            "Missing ratio per feature:\n",
            " Suburb           0.393068\n",
            "Rooms            0.000000\n",
            "Type            68.795547\n",
            "Price            0.000000\n",
            "Method          13.915189\n",
            "SellerG          0.034429\n",
            "Date             1.382912\n",
            "Distance         0.220922\n",
            "Postcode         0.000000\n",
            "Bedroom2         0.048775\n",
            "Bathroom         0.131979\n",
            "Car              4.679520\n",
            "Landsize         6.992024\n",
            "BuildingArea     0.218052\n",
            "YearBuilt        0.000000\n",
            "CouncilArea      5.339416\n",
            "Lattitude        0.000000\n",
            "Longtitude       0.000000\n",
            "Regionname      12.558100\n",
            "dtype: float64\n",
            "Accuracy After removing features with missing value ercentage >20% : 0.9978005164004973\n"
          ]
        }
      ]
    }
  ]
}